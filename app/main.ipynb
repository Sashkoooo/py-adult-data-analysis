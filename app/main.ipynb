{
 "cells": [
  {
   "cell_type": "code",
   "execution_count": 3,
   "metadata": {
    "collapsed": false,
    "pycharm": {
     "name": "#%%\n"
    }
   },
   "outputs": [],
   "source": [
    "import numpy as np\n",
    "import pandas as pd\n",
    "\n",
    "from pathlib import Path\n"
   ]
  },
  {
   "cell_type": "markdown",
   "metadata": {
    "collapsed": false,
    "pycharm": {
     "name": "#%% md\n"
    }
   },
   "source": [
    "# Task 0\n",
    "Read the dataset from csv file & perform data cleaning - remove all rows, which contains `?` in some columns.\n",
    "Also check for data correctness (salary & salary $K)."
   ]
  },
  {
   "cell_type": "code",
   "execution_count": 29,
   "metadata": {
    "collapsed": false,
    "pycharm": {
     "name": "#%%\n"
    }
   },
   "outputs": [
    {
     "name": "stdout",
     "output_type": "stream",
     "text": [
      "       Unnamed: 0  age workclass     education         marital-status  \\\n",
      "14             14   40   Private     Assoc-voc     Married-civ-spouse   \n",
      "27             27   54         ?  Some-college     Married-civ-spouse   \n",
      "38             38   31   Private  Some-college     Married-civ-spouse   \n",
      "51             51   18   Private       HS-grad          Never-married   \n",
      "61             61   32         ?       7th-8th  Married-spouse-absent   \n",
      "...           ...  ...       ...           ...                    ...   \n",
      "32530       32530   35         ?     Bachelors     Married-civ-spouse   \n",
      "32531       32531   30         ?     Bachelors          Never-married   \n",
      "32539       32539   71         ?     Doctorate     Married-civ-spouse   \n",
      "32541       32541   41         ?       HS-grad              Separated   \n",
      "32542       32542   72         ?       HS-grad     Married-civ-spouse   \n",
      "\n",
      "          occupation   relationship                race     sex  \\\n",
      "14      Craft-repair        Husband  Asian-Pac-Islander    Male   \n",
      "27                 ?        Husband  Asian-Pac-Islander    Male   \n",
      "38             Sales        Husband               White    Male   \n",
      "51     Other-service      Own-child               White  Female   \n",
      "61                 ?  Not-in-family               White    Male   \n",
      "...              ...            ...                 ...     ...   \n",
      "32530              ?           Wife               White  Female   \n",
      "32531              ?  Not-in-family  Asian-Pac-Islander  Female   \n",
      "32539              ?        Husband               White    Male   \n",
      "32541              ?  Not-in-family               Black  Female   \n",
      "32542              ?        Husband               White    Male   \n",
      "\n",
      "       hours-per-week native-country salary  salary K$  \n",
      "14                 40              ?   >50K        325  \n",
      "27                 60          South   >50K        275  \n",
      "38                 38              ?   >50K        166  \n",
      "51                 30              ?  <=50K         45  \n",
      "61                 40              ?  <=50K         48  \n",
      "...               ...            ...    ...        ...  \n",
      "32530              55  United-States   >50K        296  \n",
      "32531              99  United-States  <=50K         46  \n",
      "32539              10  United-States   >50K         62  \n",
      "32541              32  United-States  <=50K         34  \n",
      "32542              25  United-States  <=50K         16  \n",
      "\n",
      "[2399 rows x 13 columns]\n"
     ]
    }
   ],
   "source": [
    "# read dataset from csv file\n",
    "base_dir = Path.cwd().parent\n",
    "data_file_path = base_dir/\"data\"/\"adult.csv\"\n",
    "absolute_data_file_path = data_file_path.resolve()\n",
    "\n",
    "data = pd.read_csv(absolute_data_file_path)\n",
    "# print(data.head())\n",
    "# data.info()\n",
    "\n",
    "# column_data = data[\"age\"]\n",
    "# column_data.describe()\n",
    "# column_data.mean()\n",
    "# column_data.median()\n",
    "# column_data.sum()\n",
    "# column_data.value_counts()\n",
    "# column_data.unique()\n",
    "# column_data.isnull().sum()\n",
    "\n",
    "contains_symbol = data.map(lambda x: \"?\" in str(x))\n",
    "rows_with_symbol = data[contains_symbol.any(axis=1)]\n",
    "print(rows_with_symbol)\n",
    "\n",
    "# remove all rows, which contains ?\n",
    "\n"
   ]
  },
  {
   "cell_type": "markdown",
   "metadata": {
    "collapsed": false,
    "pycharm": {
     "name": "#%% md\n"
    }
   },
   "source": [
    "# Task 1\n",
    "Print the count of men and women in the dataset."
   ]
  },
  {
   "cell_type": "code",
   "execution_count": 1,
   "metadata": {
    "collapsed": false,
    "pycharm": {
     "name": "#%%\n"
    }
   },
   "outputs": [],
   "source": [
    "# write your code for task 1 here"
   ]
  },
  {
   "cell_type": "markdown",
   "metadata": {
    "collapsed": false,
    "pycharm": {
     "name": "#%% md\n"
    }
   },
   "source": [
    "# Task 2\n",
    "Find the average age of men in dataset"
   ]
  },
  {
   "cell_type": "code",
   "execution_count": null,
   "metadata": {
    "collapsed": false,
    "pycharm": {
     "name": "#%%\n"
    }
   },
   "outputs": [],
   "source": [
    "# write your code for task 2 here"
   ]
  },
  {
   "cell_type": "markdown",
   "metadata": {
    "collapsed": false,
    "pycharm": {
     "name": "#%% md\n"
    }
   },
   "source": [
    "# Task 3\n",
    "Get the percentage of people from Poland (native-country)"
   ]
  },
  {
   "cell_type": "code",
   "execution_count": null,
   "metadata": {
    "collapsed": false,
    "pycharm": {
     "name": "#%%\n"
    }
   },
   "outputs": [],
   "source": [
    "# write your code for task 3 here"
   ]
  },
  {
   "cell_type": "markdown",
   "metadata": {
    "collapsed": false,
    "pycharm": {
     "name": "#%% md\n"
    }
   },
   "source": [
    "# Task 4\n",
    "Get the mean and standard deviation of the age for people who earn > 50K per year. After this, get it for those who earn <= 50K."
   ]
  },
  {
   "cell_type": "code",
   "execution_count": 2,
   "metadata": {
    "collapsed": false,
    "pycharm": {
     "name": "#%%\n"
    }
   },
   "outputs": [],
   "source": [
    "# write your code for task 4 here"
   ]
  },
  {
   "cell_type": "markdown",
   "metadata": {
    "collapsed": false,
    "pycharm": {
     "name": "#%% md\n"
    }
   },
   "source": [
    "# Task 5\n",
    "Check, if there are some people without higher education (education: Bachelors, Prof-school, Assoc-acdm, Assoc-voc, Masters, Doctorate), but with > 50K salary"
   ]
  },
  {
   "cell_type": "code",
   "execution_count": 3,
   "metadata": {
    "collapsed": false,
    "pycharm": {
     "name": "#%%\n"
    }
   },
   "outputs": [],
   "source": [
    "# write your code for task 5 here"
   ]
  },
  {
   "cell_type": "markdown",
   "metadata": {
    "collapsed": false,
    "pycharm": {
     "name": "#%% md\n"
    }
   },
   "source": [
    "# Task 6\n",
    "Get the statistics of age for each type of education. Use `groupby` and `describe` for this."
   ]
  },
  {
   "cell_type": "code",
   "execution_count": null,
   "metadata": {
    "collapsed": false,
    "pycharm": {
     "name": "#%%\n"
    }
   },
   "outputs": [],
   "source": [
    "# write your code for task 6 here"
   ]
  },
  {
   "cell_type": "markdown",
   "metadata": {
    "collapsed": false,
    "pycharm": {
     "name": "#%% md\n"
    }
   },
   "source": [
    "# Task 7\n",
    "Compare the married and non-married men salaries. Who earns more? (>50K or <=50K)\n",
    "Married men are those, whom `marital-status` starts with \"Married\". Others are not."
   ]
  },
  {
   "cell_type": "code",
   "execution_count": 5,
   "metadata": {
    "collapsed": false,
    "pycharm": {
     "name": "#%%\n"
    }
   },
   "outputs": [],
   "source": [
    "# write your code for task 7 here"
   ]
  },
  {
   "cell_type": "markdown",
   "metadata": {
    "collapsed": false,
    "pycharm": {
     "name": "#%% md\n"
    }
   },
   "source": [
    "# Task 8\n",
    "Get the max hours per week some person works. How many people works the same amount of hours per week?"
   ]
  },
  {
   "cell_type": "code",
   "execution_count": 6,
   "metadata": {
    "collapsed": false,
    "pycharm": {
     "name": "#%%\n"
    }
   },
   "outputs": [],
   "source": [
    "# write your code for task 8 here"
   ]
  },
  {
   "cell_type": "markdown",
   "metadata": {
    "collapsed": false,
    "pycharm": {
     "name": "#%% md\n"
    }
   },
   "source": [
    "# Task 9\n",
    "Analyze the correlation between data in dataset. Understand connected fields in it and print highlight thier connection."
   ]
  },
  {
   "cell_type": "code",
   "execution_count": 7,
   "metadata": {
    "collapsed": false,
    "pycharm": {
     "name": "#%%\n"
    }
   },
   "outputs": [],
   "source": [
    "# write your code for task 9 here"
   ]
  }
 ],
 "metadata": {
  "kernelspec": {
   "display_name": "Python 3",
   "language": "python",
   "name": "python3"
  },
  "language_info": {
   "codemirror_mode": {
    "name": "ipython",
    "version": 3
   },
   "file_extension": ".py",
   "mimetype": "text/x-python",
   "name": "python",
   "nbconvert_exporter": "python",
   "pygments_lexer": "ipython3",
   "version": "3.11.9"
  }
 },
 "nbformat": 4,
 "nbformat_minor": 0
}
